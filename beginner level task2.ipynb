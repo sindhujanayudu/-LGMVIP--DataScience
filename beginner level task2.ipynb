{
  "nbformat": 4,
  "nbformat_minor": 0,
  "metadata": {
    "colab": {
      "provenance": [],
      "authorship_tag": "ABX9TyOpaWeA0zrx+6279Rgl4ceM",
      "include_colab_link": true
    },
    "kernelspec": {
      "name": "python3",
      "display_name": "Python 3"
    },
    "language_info": {
      "name": "python"
    }
  },
  "cells": [
    {
      "cell_type": "markdown",
      "metadata": {
        "id": "view-in-github",
        "colab_type": "text"
      },
      "source": [
        "<a href=\"https://colab.research.google.com/github/sindhujanayudu/-LGMVIP--DataScience/blob/main/beginner%20level%20task2.ipynb\" target=\"_parent\"><img src=\"https://colab.research.google.com/assets/colab-badge.svg\" alt=\"Open In Colab\"/></a>"
      ]
    },
    {
      "cell_type": "markdown",
      "source": [
        "BEGINNER LEVEL TASK - 2\n",
        "STOCK MARKET PREDICTION AND FORECASTING USING STACKED LSTM\n",
        "\n",
        "\n",
        "\n",
        "Importing the Libraries"
      ],
      "metadata": {
        "id": "FgsPSAvy7XNx"
      }
    },
    {
      "cell_type": "code",
      "execution_count": null,
      "metadata": {
        "id": "lCEoXBXUqgRU"
      },
      "outputs": [],
      "source": [
        "import pandas as pd\n",
        "import numpy as np\n",
        "import matplotlib.pyplot as plt\n",
        "import seaborn as sns\n",
        "from sklearn.preprocessing import MinMaxScaler\n",
        "from sklearn.model_selection import train_test_split\n",
        "from sklearn.metrics import confusion_matrix,classification_report\n",
        "from tensorflow.keras.models import Sequential\n",
        "from tensorflow.keras.layers import Dense\n",
        "from tensorflow.keras.layers import LSTM\n",
        "import math\n",
        "from sklearn.metrics import mean_squared_error,accuracy_score,confusion_matrix, classification_report, f1_score"
      ]
    },
    {
      "cell_type": "markdown",
      "source": [
        "LOADING THE DATASET"
      ],
      "metadata": {
        "id": "LtKElknC7TRB"
      }
    },
    {
      "cell_type": "code",
      "source": [
        "df = pd.read_csv('https://raw.githubusercontent.com/mwitiderrick/stockprice/master/NSE-TATAGLOBAL.csv')"
      ],
      "metadata": {
        "id": "k3VcFjmkrSbM"
      },
      "execution_count": null,
      "outputs": []
    },
    {
      "cell_type": "markdown",
      "source": [
        "EXPLORATORY DATA ANALYSIS"
      ],
      "metadata": {
        "id": "zkCEm7G47rzH"
      }
    },
    {
      "cell_type": "code",
      "source": [
        "df.shape"
      ],
      "metadata": {
        "colab": {
          "base_uri": "https://localhost:8080/"
        },
        "id": "yQM2ZRlJrXoE",
        "outputId": "e199127d-a6e3-415e-87d6-573ad019623a"
      },
      "execution_count": null,
      "outputs": [
        {
          "output_type": "execute_result",
          "data": {
            "text/plain": [
              "(2035, 8)"
            ]
          },
          "metadata": {},
          "execution_count": 3
        }
      ]
    },
    {
      "cell_type": "code",
      "source": [
        "df.head(5)"
      ],
      "metadata": {
        "colab": {
          "base_uri": "https://localhost:8080/",
          "height": 206
        },
        "id": "6gUxEjcYrc4i",
        "outputId": "eea07eb1-0c42-40ea-fa5e-ddf5fccccf09"
      },
      "execution_count": null,
      "outputs": [
        {
          "output_type": "execute_result",
          "data": {
            "text/plain": [
              "         Date    Open    High     Low    Last   Close  Total Trade Quantity  \\\n",
              "0  2018-09-28  234.05  235.95  230.20  233.50  233.75               3069914   \n",
              "1  2018-09-27  234.55  236.80  231.10  233.80  233.25               5082859   \n",
              "2  2018-09-26  240.00  240.00  232.50  235.00  234.25               2240909   \n",
              "3  2018-09-25  233.30  236.75  232.00  236.25  236.10               2349368   \n",
              "4  2018-09-24  233.55  239.20  230.75  234.00  233.30               3423509   \n",
              "\n",
              "   Turnover (Lacs)  \n",
              "0          7162.35  \n",
              "1         11859.95  \n",
              "2          5248.60  \n",
              "3          5503.90  \n",
              "4          7999.55  "
            ],
            "text/html": [
              "\n",
              "  <div id=\"df-22acde9a-e1da-43aa-9178-cc9eb76d6aef\">\n",
              "    <div class=\"colab-df-container\">\n",
              "      <div>\n",
              "<style scoped>\n",
              "    .dataframe tbody tr th:only-of-type {\n",
              "        vertical-align: middle;\n",
              "    }\n",
              "\n",
              "    .dataframe tbody tr th {\n",
              "        vertical-align: top;\n",
              "    }\n",
              "\n",
              "    .dataframe thead th {\n",
              "        text-align: right;\n",
              "    }\n",
              "</style>\n",
              "<table border=\"1\" class=\"dataframe\">\n",
              "  <thead>\n",
              "    <tr style=\"text-align: right;\">\n",
              "      <th></th>\n",
              "      <th>Date</th>\n",
              "      <th>Open</th>\n",
              "      <th>High</th>\n",
              "      <th>Low</th>\n",
              "      <th>Last</th>\n",
              "      <th>Close</th>\n",
              "      <th>Total Trade Quantity</th>\n",
              "      <th>Turnover (Lacs)</th>\n",
              "    </tr>\n",
              "  </thead>\n",
              "  <tbody>\n",
              "    <tr>\n",
              "      <th>0</th>\n",
              "      <td>2018-09-28</td>\n",
              "      <td>234.05</td>\n",
              "      <td>235.95</td>\n",
              "      <td>230.20</td>\n",
              "      <td>233.50</td>\n",
              "      <td>233.75</td>\n",
              "      <td>3069914</td>\n",
              "      <td>7162.35</td>\n",
              "    </tr>\n",
              "    <tr>\n",
              "      <th>1</th>\n",
              "      <td>2018-09-27</td>\n",
              "      <td>234.55</td>\n",
              "      <td>236.80</td>\n",
              "      <td>231.10</td>\n",
              "      <td>233.80</td>\n",
              "      <td>233.25</td>\n",
              "      <td>5082859</td>\n",
              "      <td>11859.95</td>\n",
              "    </tr>\n",
              "    <tr>\n",
              "      <th>2</th>\n",
              "      <td>2018-09-26</td>\n",
              "      <td>240.00</td>\n",
              "      <td>240.00</td>\n",
              "      <td>232.50</td>\n",
              "      <td>235.00</td>\n",
              "      <td>234.25</td>\n",
              "      <td>2240909</td>\n",
              "      <td>5248.60</td>\n",
              "    </tr>\n",
              "    <tr>\n",
              "      <th>3</th>\n",
              "      <td>2018-09-25</td>\n",
              "      <td>233.30</td>\n",
              "      <td>236.75</td>\n",
              "      <td>232.00</td>\n",
              "      <td>236.25</td>\n",
              "      <td>236.10</td>\n",
              "      <td>2349368</td>\n",
              "      <td>5503.90</td>\n",
              "    </tr>\n",
              "    <tr>\n",
              "      <th>4</th>\n",
              "      <td>2018-09-24</td>\n",
              "      <td>233.55</td>\n",
              "      <td>239.20</td>\n",
              "      <td>230.75</td>\n",
              "      <td>234.00</td>\n",
              "      <td>233.30</td>\n",
              "      <td>3423509</td>\n",
              "      <td>7999.55</td>\n",
              "    </tr>\n",
              "  </tbody>\n",
              "</table>\n",
              "</div>\n",
              "      <button class=\"colab-df-convert\" onclick=\"convertToInteractive('df-22acde9a-e1da-43aa-9178-cc9eb76d6aef')\"\n",
              "              title=\"Convert this dataframe to an interactive table.\"\n",
              "              style=\"display:none;\">\n",
              "        \n",
              "  <svg xmlns=\"http://www.w3.org/2000/svg\" height=\"24px\"viewBox=\"0 0 24 24\"\n",
              "       width=\"24px\">\n",
              "    <path d=\"M0 0h24v24H0V0z\" fill=\"none\"/>\n",
              "    <path d=\"M18.56 5.44l.94 2.06.94-2.06 2.06-.94-2.06-.94-.94-2.06-.94 2.06-2.06.94zm-11 1L8.5 8.5l.94-2.06 2.06-.94-2.06-.94L8.5 2.5l-.94 2.06-2.06.94zm10 10l.94 2.06.94-2.06 2.06-.94-2.06-.94-.94-2.06-.94 2.06-2.06.94z\"/><path d=\"M17.41 7.96l-1.37-1.37c-.4-.4-.92-.59-1.43-.59-.52 0-1.04.2-1.43.59L10.3 9.45l-7.72 7.72c-.78.78-.78 2.05 0 2.83L4 21.41c.39.39.9.59 1.41.59.51 0 1.02-.2 1.41-.59l7.78-7.78 2.81-2.81c.8-.78.8-2.07 0-2.86zM5.41 20L4 18.59l7.72-7.72 1.47 1.35L5.41 20z\"/>\n",
              "  </svg>\n",
              "      </button>\n",
              "      \n",
              "  <style>\n",
              "    .colab-df-container {\n",
              "      display:flex;\n",
              "      flex-wrap:wrap;\n",
              "      gap: 12px;\n",
              "    }\n",
              "\n",
              "    .colab-df-convert {\n",
              "      background-color: #E8F0FE;\n",
              "      border: none;\n",
              "      border-radius: 50%;\n",
              "      cursor: pointer;\n",
              "      display: none;\n",
              "      fill: #1967D2;\n",
              "      height: 32px;\n",
              "      padding: 0 0 0 0;\n",
              "      width: 32px;\n",
              "    }\n",
              "\n",
              "    .colab-df-convert:hover {\n",
              "      background-color: #E2EBFA;\n",
              "      box-shadow: 0px 1px 2px rgba(60, 64, 67, 0.3), 0px 1px 3px 1px rgba(60, 64, 67, 0.15);\n",
              "      fill: #174EA6;\n",
              "    }\n",
              "\n",
              "    [theme=dark] .colab-df-convert {\n",
              "      background-color: #3B4455;\n",
              "      fill: #D2E3FC;\n",
              "    }\n",
              "\n",
              "    [theme=dark] .colab-df-convert:hover {\n",
              "      background-color: #434B5C;\n",
              "      box-shadow: 0px 1px 3px 1px rgba(0, 0, 0, 0.15);\n",
              "      filter: drop-shadow(0px 1px 2px rgba(0, 0, 0, 0.3));\n",
              "      fill: #FFFFFF;\n",
              "    }\n",
              "  </style>\n",
              "\n",
              "      <script>\n",
              "        const buttonEl =\n",
              "          document.querySelector('#df-22acde9a-e1da-43aa-9178-cc9eb76d6aef button.colab-df-convert');\n",
              "        buttonEl.style.display =\n",
              "          google.colab.kernel.accessAllowed ? 'block' : 'none';\n",
              "\n",
              "        async function convertToInteractive(key) {\n",
              "          const element = document.querySelector('#df-22acde9a-e1da-43aa-9178-cc9eb76d6aef');\n",
              "          const dataTable =\n",
              "            await google.colab.kernel.invokeFunction('convertToInteractive',\n",
              "                                                     [key], {});\n",
              "          if (!dataTable) return;\n",
              "\n",
              "          const docLinkHtml = 'Like what you see? Visit the ' +\n",
              "            '<a target=\"_blank\" href=https://colab.research.google.com/notebooks/data_table.ipynb>data table notebook</a>'\n",
              "            + ' to learn more about interactive tables.';\n",
              "          element.innerHTML = '';\n",
              "          dataTable['output_type'] = 'display_data';\n",
              "          await google.colab.output.renderOutput(dataTable, element);\n",
              "          const docLink = document.createElement('div');\n",
              "          docLink.innerHTML = docLinkHtml;\n",
              "          element.appendChild(docLink);\n",
              "        }\n",
              "      </script>\n",
              "    </div>\n",
              "  </div>\n",
              "  "
            ]
          },
          "metadata": {},
          "execution_count": 4
        }
      ]
    },
    {
      "cell_type": "code",
      "source": [
        "df.tail(3)"
      ],
      "metadata": {
        "colab": {
          "base_uri": "https://localhost:8080/",
          "height": 143
        },
        "id": "2AH4fCLDrnIL",
        "outputId": "de43366f-bb6c-450f-9153-c9132e124df7"
      },
      "execution_count": null,
      "outputs": [
        {
          "output_type": "execute_result",
          "data": {
            "text/plain": [
              "            Date   Open    High     Low    Last   Close  Total Trade Quantity  \\\n",
              "2032  2010-07-23  121.8  121.95  120.25  120.35  120.65                281312   \n",
              "2033  2010-07-22  120.3  122.00  120.25  120.75  120.90                293312   \n",
              "2034  2010-07-21  122.1  123.00  121.05  121.10  121.55                658666   \n",
              "\n",
              "      Turnover (Lacs)  \n",
              "2032           340.31  \n",
              "2033           355.17  \n",
              "2034           803.56  "
            ],
            "text/html": [
              "\n",
              "  <div id=\"df-b7ec694e-d51f-4097-a701-302eab2bceb2\">\n",
              "    <div class=\"colab-df-container\">\n",
              "      <div>\n",
              "<style scoped>\n",
              "    .dataframe tbody tr th:only-of-type {\n",
              "        vertical-align: middle;\n",
              "    }\n",
              "\n",
              "    .dataframe tbody tr th {\n",
              "        vertical-align: top;\n",
              "    }\n",
              "\n",
              "    .dataframe thead th {\n",
              "        text-align: right;\n",
              "    }\n",
              "</style>\n",
              "<table border=\"1\" class=\"dataframe\">\n",
              "  <thead>\n",
              "    <tr style=\"text-align: right;\">\n",
              "      <th></th>\n",
              "      <th>Date</th>\n",
              "      <th>Open</th>\n",
              "      <th>High</th>\n",
              "      <th>Low</th>\n",
              "      <th>Last</th>\n",
              "      <th>Close</th>\n",
              "      <th>Total Trade Quantity</th>\n",
              "      <th>Turnover (Lacs)</th>\n",
              "    </tr>\n",
              "  </thead>\n",
              "  <tbody>\n",
              "    <tr>\n",
              "      <th>2032</th>\n",
              "      <td>2010-07-23</td>\n",
              "      <td>121.8</td>\n",
              "      <td>121.95</td>\n",
              "      <td>120.25</td>\n",
              "      <td>120.35</td>\n",
              "      <td>120.65</td>\n",
              "      <td>281312</td>\n",
              "      <td>340.31</td>\n",
              "    </tr>\n",
              "    <tr>\n",
              "      <th>2033</th>\n",
              "      <td>2010-07-22</td>\n",
              "      <td>120.3</td>\n",
              "      <td>122.00</td>\n",
              "      <td>120.25</td>\n",
              "      <td>120.75</td>\n",
              "      <td>120.90</td>\n",
              "      <td>293312</td>\n",
              "      <td>355.17</td>\n",
              "    </tr>\n",
              "    <tr>\n",
              "      <th>2034</th>\n",
              "      <td>2010-07-21</td>\n",
              "      <td>122.1</td>\n",
              "      <td>123.00</td>\n",
              "      <td>121.05</td>\n",
              "      <td>121.10</td>\n",
              "      <td>121.55</td>\n",
              "      <td>658666</td>\n",
              "      <td>803.56</td>\n",
              "    </tr>\n",
              "  </tbody>\n",
              "</table>\n",
              "</div>\n",
              "      <button class=\"colab-df-convert\" onclick=\"convertToInteractive('df-b7ec694e-d51f-4097-a701-302eab2bceb2')\"\n",
              "              title=\"Convert this dataframe to an interactive table.\"\n",
              "              style=\"display:none;\">\n",
              "        \n",
              "  <svg xmlns=\"http://www.w3.org/2000/svg\" height=\"24px\"viewBox=\"0 0 24 24\"\n",
              "       width=\"24px\">\n",
              "    <path d=\"M0 0h24v24H0V0z\" fill=\"none\"/>\n",
              "    <path d=\"M18.56 5.44l.94 2.06.94-2.06 2.06-.94-2.06-.94-.94-2.06-.94 2.06-2.06.94zm-11 1L8.5 8.5l.94-2.06 2.06-.94-2.06-.94L8.5 2.5l-.94 2.06-2.06.94zm10 10l.94 2.06.94-2.06 2.06-.94-2.06-.94-.94-2.06-.94 2.06-2.06.94z\"/><path d=\"M17.41 7.96l-1.37-1.37c-.4-.4-.92-.59-1.43-.59-.52 0-1.04.2-1.43.59L10.3 9.45l-7.72 7.72c-.78.78-.78 2.05 0 2.83L4 21.41c.39.39.9.59 1.41.59.51 0 1.02-.2 1.41-.59l7.78-7.78 2.81-2.81c.8-.78.8-2.07 0-2.86zM5.41 20L4 18.59l7.72-7.72 1.47 1.35L5.41 20z\"/>\n",
              "  </svg>\n",
              "      </button>\n",
              "      \n",
              "  <style>\n",
              "    .colab-df-container {\n",
              "      display:flex;\n",
              "      flex-wrap:wrap;\n",
              "      gap: 12px;\n",
              "    }\n",
              "\n",
              "    .colab-df-convert {\n",
              "      background-color: #E8F0FE;\n",
              "      border: none;\n",
              "      border-radius: 50%;\n",
              "      cursor: pointer;\n",
              "      display: none;\n",
              "      fill: #1967D2;\n",
              "      height: 32px;\n",
              "      padding: 0 0 0 0;\n",
              "      width: 32px;\n",
              "    }\n",
              "\n",
              "    .colab-df-convert:hover {\n",
              "      background-color: #E2EBFA;\n",
              "      box-shadow: 0px 1px 2px rgba(60, 64, 67, 0.3), 0px 1px 3px 1px rgba(60, 64, 67, 0.15);\n",
              "      fill: #174EA6;\n",
              "    }\n",
              "\n",
              "    [theme=dark] .colab-df-convert {\n",
              "      background-color: #3B4455;\n",
              "      fill: #D2E3FC;\n",
              "    }\n",
              "\n",
              "    [theme=dark] .colab-df-convert:hover {\n",
              "      background-color: #434B5C;\n",
              "      box-shadow: 0px 1px 3px 1px rgba(0, 0, 0, 0.15);\n",
              "      filter: drop-shadow(0px 1px 2px rgba(0, 0, 0, 0.3));\n",
              "      fill: #FFFFFF;\n",
              "    }\n",
              "  </style>\n",
              "\n",
              "      <script>\n",
              "        const buttonEl =\n",
              "          document.querySelector('#df-b7ec694e-d51f-4097-a701-302eab2bceb2 button.colab-df-convert');\n",
              "        buttonEl.style.display =\n",
              "          google.colab.kernel.accessAllowed ? 'block' : 'none';\n",
              "\n",
              "        async function convertToInteractive(key) {\n",
              "          const element = document.querySelector('#df-b7ec694e-d51f-4097-a701-302eab2bceb2');\n",
              "          const dataTable =\n",
              "            await google.colab.kernel.invokeFunction('convertToInteractive',\n",
              "                                                     [key], {});\n",
              "          if (!dataTable) return;\n",
              "\n",
              "          const docLinkHtml = 'Like what you see? Visit the ' +\n",
              "            '<a target=\"_blank\" href=https://colab.research.google.com/notebooks/data_table.ipynb>data table notebook</a>'\n",
              "            + ' to learn more about interactive tables.';\n",
              "          element.innerHTML = '';\n",
              "          dataTable['output_type'] = 'display_data';\n",
              "          await google.colab.output.renderOutput(dataTable, element);\n",
              "          const docLink = document.createElement('div');\n",
              "          docLink.innerHTML = docLinkHtml;\n",
              "          element.appendChild(docLink);\n",
              "        }\n",
              "      </script>\n",
              "    </div>\n",
              "  </div>\n",
              "  "
            ]
          },
          "metadata": {},
          "execution_count": 5
        }
      ]
    },
    {
      "cell_type": "code",
      "source": [
        "df.info()"
      ],
      "metadata": {
        "colab": {
          "base_uri": "https://localhost:8080/"
        },
        "id": "rbbAn2BBrwW1",
        "outputId": "03782d27-9954-480d-c742-3c6778533772"
      },
      "execution_count": null,
      "outputs": [
        {
          "output_type": "stream",
          "name": "stdout",
          "text": [
            "<class 'pandas.core.frame.DataFrame'>\n",
            "RangeIndex: 2035 entries, 0 to 2034\n",
            "Data columns (total 8 columns):\n",
            " #   Column                Non-Null Count  Dtype  \n",
            "---  ------                --------------  -----  \n",
            " 0   Date                  2035 non-null   object \n",
            " 1   Open                  2035 non-null   float64\n",
            " 2   High                  2035 non-null   float64\n",
            " 3   Low                   2035 non-null   float64\n",
            " 4   Last                  2035 non-null   float64\n",
            " 5   Close                 2035 non-null   float64\n",
            " 6   Total Trade Quantity  2035 non-null   int64  \n",
            " 7   Turnover (Lacs)       2035 non-null   float64\n",
            "dtypes: float64(6), int64(1), object(1)\n",
            "memory usage: 127.3+ KB\n"
          ]
        }
      ]
    },
    {
      "cell_type": "code",
      "source": [
        "df.describe()"
      ],
      "metadata": {
        "colab": {
          "base_uri": "https://localhost:8080/",
          "height": 300
        },
        "id": "zuIj1UEPrzo7",
        "outputId": "e5c03147-b4f6-4dba-b8ec-cf9d605cf814"
      },
      "execution_count": null,
      "outputs": [
        {
          "output_type": "execute_result",
          "data": {
            "text/plain": [
              "              Open         High          Low         Last       Close  \\\n",
              "count  2035.000000  2035.000000  2035.000000  2035.000000  2035.00000   \n",
              "mean    149.713735   151.992826   147.293931   149.474251   149.45027   \n",
              "std      48.664509    49.413109    47.931958    48.732570    48.71204   \n",
              "min      81.100000    82.800000    80.000000    81.000000    80.95000   \n",
              "25%     120.025000   122.100000   118.300000   120.075000   120.05000   \n",
              "50%     141.500000   143.400000   139.600000   141.100000   141.25000   \n",
              "75%     157.175000   159.400000   155.150000   156.925000   156.90000   \n",
              "max     327.700000   328.750000   321.650000   325.950000   325.75000   \n",
              "\n",
              "       Total Trade Quantity  Turnover (Lacs)  \n",
              "count          2.035000e+03      2035.000000  \n",
              "mean           2.335681e+06      3899.980565  \n",
              "std            2.091778e+06      4570.767877  \n",
              "min            3.961000e+04        37.040000  \n",
              "25%            1.146444e+06      1427.460000  \n",
              "50%            1.783456e+06      2512.030000  \n",
              "75%            2.813594e+06      4539.015000  \n",
              "max            2.919102e+07     55755.080000  "
            ],
            "text/html": [
              "\n",
              "  <div id=\"df-9e24310c-8751-4dd9-a4e2-06d6838f5ec1\">\n",
              "    <div class=\"colab-df-container\">\n",
              "      <div>\n",
              "<style scoped>\n",
              "    .dataframe tbody tr th:only-of-type {\n",
              "        vertical-align: middle;\n",
              "    }\n",
              "\n",
              "    .dataframe tbody tr th {\n",
              "        vertical-align: top;\n",
              "    }\n",
              "\n",
              "    .dataframe thead th {\n",
              "        text-align: right;\n",
              "    }\n",
              "</style>\n",
              "<table border=\"1\" class=\"dataframe\">\n",
              "  <thead>\n",
              "    <tr style=\"text-align: right;\">\n",
              "      <th></th>\n",
              "      <th>Open</th>\n",
              "      <th>High</th>\n",
              "      <th>Low</th>\n",
              "      <th>Last</th>\n",
              "      <th>Close</th>\n",
              "      <th>Total Trade Quantity</th>\n",
              "      <th>Turnover (Lacs)</th>\n",
              "    </tr>\n",
              "  </thead>\n",
              "  <tbody>\n",
              "    <tr>\n",
              "      <th>count</th>\n",
              "      <td>2035.000000</td>\n",
              "      <td>2035.000000</td>\n",
              "      <td>2035.000000</td>\n",
              "      <td>2035.000000</td>\n",
              "      <td>2035.00000</td>\n",
              "      <td>2.035000e+03</td>\n",
              "      <td>2035.000000</td>\n",
              "    </tr>\n",
              "    <tr>\n",
              "      <th>mean</th>\n",
              "      <td>149.713735</td>\n",
              "      <td>151.992826</td>\n",
              "      <td>147.293931</td>\n",
              "      <td>149.474251</td>\n",
              "      <td>149.45027</td>\n",
              "      <td>2.335681e+06</td>\n",
              "      <td>3899.980565</td>\n",
              "    </tr>\n",
              "    <tr>\n",
              "      <th>std</th>\n",
              "      <td>48.664509</td>\n",
              "      <td>49.413109</td>\n",
              "      <td>47.931958</td>\n",
              "      <td>48.732570</td>\n",
              "      <td>48.71204</td>\n",
              "      <td>2.091778e+06</td>\n",
              "      <td>4570.767877</td>\n",
              "    </tr>\n",
              "    <tr>\n",
              "      <th>min</th>\n",
              "      <td>81.100000</td>\n",
              "      <td>82.800000</td>\n",
              "      <td>80.000000</td>\n",
              "      <td>81.000000</td>\n",
              "      <td>80.95000</td>\n",
              "      <td>3.961000e+04</td>\n",
              "      <td>37.040000</td>\n",
              "    </tr>\n",
              "    <tr>\n",
              "      <th>25%</th>\n",
              "      <td>120.025000</td>\n",
              "      <td>122.100000</td>\n",
              "      <td>118.300000</td>\n",
              "      <td>120.075000</td>\n",
              "      <td>120.05000</td>\n",
              "      <td>1.146444e+06</td>\n",
              "      <td>1427.460000</td>\n",
              "    </tr>\n",
              "    <tr>\n",
              "      <th>50%</th>\n",
              "      <td>141.500000</td>\n",
              "      <td>143.400000</td>\n",
              "      <td>139.600000</td>\n",
              "      <td>141.100000</td>\n",
              "      <td>141.25000</td>\n",
              "      <td>1.783456e+06</td>\n",
              "      <td>2512.030000</td>\n",
              "    </tr>\n",
              "    <tr>\n",
              "      <th>75%</th>\n",
              "      <td>157.175000</td>\n",
              "      <td>159.400000</td>\n",
              "      <td>155.150000</td>\n",
              "      <td>156.925000</td>\n",
              "      <td>156.90000</td>\n",
              "      <td>2.813594e+06</td>\n",
              "      <td>4539.015000</td>\n",
              "    </tr>\n",
              "    <tr>\n",
              "      <th>max</th>\n",
              "      <td>327.700000</td>\n",
              "      <td>328.750000</td>\n",
              "      <td>321.650000</td>\n",
              "      <td>325.950000</td>\n",
              "      <td>325.75000</td>\n",
              "      <td>2.919102e+07</td>\n",
              "      <td>55755.080000</td>\n",
              "    </tr>\n",
              "  </tbody>\n",
              "</table>\n",
              "</div>\n",
              "      <button class=\"colab-df-convert\" onclick=\"convertToInteractive('df-9e24310c-8751-4dd9-a4e2-06d6838f5ec1')\"\n",
              "              title=\"Convert this dataframe to an interactive table.\"\n",
              "              style=\"display:none;\">\n",
              "        \n",
              "  <svg xmlns=\"http://www.w3.org/2000/svg\" height=\"24px\"viewBox=\"0 0 24 24\"\n",
              "       width=\"24px\">\n",
              "    <path d=\"M0 0h24v24H0V0z\" fill=\"none\"/>\n",
              "    <path d=\"M18.56 5.44l.94 2.06.94-2.06 2.06-.94-2.06-.94-.94-2.06-.94 2.06-2.06.94zm-11 1L8.5 8.5l.94-2.06 2.06-.94-2.06-.94L8.5 2.5l-.94 2.06-2.06.94zm10 10l.94 2.06.94-2.06 2.06-.94-2.06-.94-.94-2.06-.94 2.06-2.06.94z\"/><path d=\"M17.41 7.96l-1.37-1.37c-.4-.4-.92-.59-1.43-.59-.52 0-1.04.2-1.43.59L10.3 9.45l-7.72 7.72c-.78.78-.78 2.05 0 2.83L4 21.41c.39.39.9.59 1.41.59.51 0 1.02-.2 1.41-.59l7.78-7.78 2.81-2.81c.8-.78.8-2.07 0-2.86zM5.41 20L4 18.59l7.72-7.72 1.47 1.35L5.41 20z\"/>\n",
              "  </svg>\n",
              "      </button>\n",
              "      \n",
              "  <style>\n",
              "    .colab-df-container {\n",
              "      display:flex;\n",
              "      flex-wrap:wrap;\n",
              "      gap: 12px;\n",
              "    }\n",
              "\n",
              "    .colab-df-convert {\n",
              "      background-color: #E8F0FE;\n",
              "      border: none;\n",
              "      border-radius: 50%;\n",
              "      cursor: pointer;\n",
              "      display: none;\n",
              "      fill: #1967D2;\n",
              "      height: 32px;\n",
              "      padding: 0 0 0 0;\n",
              "      width: 32px;\n",
              "    }\n",
              "\n",
              "    .colab-df-convert:hover {\n",
              "      background-color: #E2EBFA;\n",
              "      box-shadow: 0px 1px 2px rgba(60, 64, 67, 0.3), 0px 1px 3px 1px rgba(60, 64, 67, 0.15);\n",
              "      fill: #174EA6;\n",
              "    }\n",
              "\n",
              "    [theme=dark] .colab-df-convert {\n",
              "      background-color: #3B4455;\n",
              "      fill: #D2E3FC;\n",
              "    }\n",
              "\n",
              "    [theme=dark] .colab-df-convert:hover {\n",
              "      background-color: #434B5C;\n",
              "      box-shadow: 0px 1px 3px 1px rgba(0, 0, 0, 0.15);\n",
              "      filter: drop-shadow(0px 1px 2px rgba(0, 0, 0, 0.3));\n",
              "      fill: #FFFFFF;\n",
              "    }\n",
              "  </style>\n",
              "\n",
              "      <script>\n",
              "        const buttonEl =\n",
              "          document.querySelector('#df-9e24310c-8751-4dd9-a4e2-06d6838f5ec1 button.colab-df-convert');\n",
              "        buttonEl.style.display =\n",
              "          google.colab.kernel.accessAllowed ? 'block' : 'none';\n",
              "\n",
              "        async function convertToInteractive(key) {\n",
              "          const element = document.querySelector('#df-9e24310c-8751-4dd9-a4e2-06d6838f5ec1');\n",
              "          const dataTable =\n",
              "            await google.colab.kernel.invokeFunction('convertToInteractive',\n",
              "                                                     [key], {});\n",
              "          if (!dataTable) return;\n",
              "\n",
              "          const docLinkHtml = 'Like what you see? Visit the ' +\n",
              "            '<a target=\"_blank\" href=https://colab.research.google.com/notebooks/data_table.ipynb>data table notebook</a>'\n",
              "            + ' to learn more about interactive tables.';\n",
              "          element.innerHTML = '';\n",
              "          dataTable['output_type'] = 'display_data';\n",
              "          await google.colab.output.renderOutput(dataTable, element);\n",
              "          const docLink = document.createElement('div');\n",
              "          docLink.innerHTML = docLinkHtml;\n",
              "          element.appendChild(docLink);\n",
              "        }\n",
              "      </script>\n",
              "    </div>\n",
              "  </div>\n",
              "  "
            ]
          },
          "metadata": {},
          "execution_count": 7
        }
      ]
    },
    {
      "cell_type": "code",
      "source": [
        "plt.figure(figsize=(5,5))\n",
        "sns.heatmap(df.corr(), annot=True)"
      ],
      "metadata": {
        "colab": {
          "base_uri": "https://localhost:8080/",
          "height": 648
        },
        "id": "I6faZ9qntGJ1",
        "outputId": "0a15cb43-c94f-4127-ca46-925401d756bf"
      },
      "execution_count": null,
      "outputs": [
        {
          "output_type": "stream",
          "name": "stderr",
          "text": [
            "<ipython-input-8-99a9a68a22ee>:2: FutureWarning: The default value of numeric_only in DataFrame.corr is deprecated. In a future version, it will default to False. Select only valid columns or specify the value of numeric_only to silence this warning.\n",
            "  sns.heatmap(df.corr(), annot=True)\n"
          ]
        },
        {
          "output_type": "execute_result",
          "data": {
            "text/plain": [
              "<Axes: >"
            ]
          },
          "metadata": {},
          "execution_count": 8
        },
        {
          "output_type": "display_data",
          "data": {
            "text/plain": [
              "<Figure size 500x500 with 2 Axes>"
            ],
            "image/png": "[encoded data removed]"
          },
          "metadata": {}
        }
      ]
    },
    {
      "cell_type": "code",
      "source": [
        "df1=df.reset_index()['Close']"
      ],
      "metadata": {
        "id": "nfI8jx6ItX-x"
      },
      "execution_count": null,
      "outputs": []
    },
    {
      "cell_type": "code",
      "source": [
        "df1.shape"
      ],
      "metadata": {
        "colab": {
          "base_uri": "https://localhost:8080/"
        },
        "id": "v-K595nVtcie",
        "outputId": "5d62e3a6-71ed-4f19-dd72-55ea139a0dc0"
      },
      "execution_count": null,
      "outputs": [
        {
          "output_type": "execute_result",
          "data": {
            "text/plain": [
              "(2035,)"
            ]
          },
          "metadata": {},
          "execution_count": 10
        }
      ]
    },
    {
      "cell_type": "code",
      "source": [
        "df1.head(3)"
      ],
      "metadata": {
        "colab": {
          "base_uri": "https://localhost:8080/"
        },
        "id": "fW-yjuZjti77",
        "outputId": "63ab333e-d721-4b68-85b7-274555582fde"
      },
      "execution_count": null,
      "outputs": [
        {
          "output_type": "execute_result",
          "data": {
            "text/plain": [
              "0    233.75\n",
              "1    233.25\n",
              "2    234.25\n",
              "Name: Close, dtype: float64"
            ]
          },
          "metadata": {},
          "execution_count": 11
        }
      ]
    },
    {
      "cell_type": "code",
      "source": [
        "plt.plot(df1)"
      ],
      "metadata": {
        "colab": {
          "base_uri": "https://localhost:8080/",
          "height": 447
        },
        "id": "jCGItI1Ttr5F",
        "outputId": "ee864eb1-8e76-4e73-ce2e-df4b67b56bab"
      },
      "execution_count": null,
      "outputs": [
        {
          "output_type": "execute_result",
          "data": {
            "text/plain": [
              "[<matplotlib.lines.Line2D at 0x7fb43e8620e0>]"
            ]
          },
          "metadata": {},
          "execution_count": 12
        },
        {
          "output_type": "display_data",
          "data": {
            "text/plain": [
              "<Figure size 640x480 with 1 Axes>"
            ],
            "image/png": "[encoded data removed]"
          },
          "metadata": {}
        }
      ]
    },
    {
      "cell_type": "markdown",
      "source": [
        "TEST FOR STATIONARY"
      ],
      "metadata": {
        "id": "UGNfnGIg70M3"
      }
    },
    {
      "cell_type": "code",
      "source": [
        "def stationary_test(time_series):\n",
        "    try:\n",
        "        rolling_mean = time_series.rolling(12).mean()\n",
        "        rolling_std = time_series.rolling(12).std()\n",
        "\n",
        "        plt.figure(figsize=(18,8))\n",
        "        plt.grid('both')\n",
        "        plt.plot(time_series, color='blue', label='Orginal', linewidth=3)\n",
        "        plt.plot(rolling_mean, color='red', label='Rolling Mean', linewidth=3)\n",
        "        plt.plot(rolling_std, color='green', label='Rolling Std', linewidth=3)\n",
        "        plt.show()\n",
        "        \n",
        "        adft = adfuller(time_series, autolag='AIC')\n",
        "        output = pd.Series(adft[0:4], index=['Test Statistics', 'p-value', 'No of lags', 'No of observation used'])\n",
        "        \n",
        "        for key, values in adft[4].items():\n",
        "            output['critical value (%s)'%key]=values\n",
        "        \n",
        "        print(output)\n",
        "    \n",
        "    except Exception as e:\n",
        "        print(e)\n",
        "stationary_test(df1) "
      ],
      "metadata": {
        "colab": {
          "base_uri": "https://localhost:8080/",
          "height": 713
        },
        "id": "XbvHkGyTuBS5",
        "outputId": "e18c9677-2f4c-41f9-d9dc-fb17dfc95bdc"
      },
      "execution_count": null,
      "outputs": [
        {
          "output_type": "display_data",
          "data": {
            "text/plain": [
              "<Figure size 1800x800 with 1 Axes>"
            ],
            "image/png": "[encoded data removed]"
          },
          "metadata": {}
        },
        {
          "output_type": "stream",
          "name": "stdout",
          "text": [
            "name 'adfuller' is not defined\n"
          ]
        }
      ]
    },
    {
      "cell_type": "markdown",
      "source": [
        "SCALARIZATION"
      ],
      "metadata": {
        "id": "Q0t6yuR-76jB"
      }
    },
    {
      "cell_type": "code",
      "source": [
        "scaler=MinMaxScaler(feature_range=(0,1))\n",
        "df1=scaler.fit_transform(np.array(df1).reshape(-1,1))\n",
        "print(df1.shape)\n",
        "df1"
      ],
      "metadata": {
        "colab": {
          "base_uri": "https://localhost:8080/"
        },
        "id": "YhIYI4KWuOfm",
        "outputId": "2ce0a9a4-1869-43fd-90f0-c4c964c37143"
      },
      "execution_count": null,
      "outputs": [
        {
          "output_type": "stream",
          "name": "stdout",
          "text": [
            "(2035, 1)\n"
          ]
        },
        {
          "output_type": "execute_result",
          "data": {
            "text/plain": [
              "array([[0.62418301],\n",
              "       [0.62214052],\n",
              "       [0.62622549],\n",
              "       ...,\n",
              "       [0.1621732 ],\n",
              "       [0.16319444],\n",
              "       [0.16584967]])"
            ]
          },
          "metadata": {},
          "execution_count": 14
        }
      ]
    },
    {
      "cell_type": "markdown",
      "source": [
        "MODEL TRAINING,TESTING AND EVALUATION"
      ],
      "metadata": {
        "id": "YsXT960d8CPM"
      }
    },
    {
      "cell_type": "code",
      "source": [
        "training_data,testing_data = train_test_split(df1,test_size=0.35)"
      ],
      "metadata": {
        "id": "B2Gd3dgeuUeo"
      },
      "execution_count": null,
      "outputs": []
    },
    {
      "cell_type": "code",
      "source": [
        "print(training_data.shape)\n",
        "print(testing_data.shape)"
      ],
      "metadata": {
        "colab": {
          "base_uri": "https://localhost:8080/"
        },
        "id": "YTtxQFsruZIo",
        "outputId": "c353c2bc-bd9f-44e3-8998-1f13fb4a4720"
      },
      "execution_count": null,
      "outputs": [
        {
          "output_type": "stream",
          "name": "stdout",
          "text": [
            "(1322, 1)\n",
            "(713, 1)\n"
          ]
        }
      ]
    },
    {
      "cell_type": "markdown",
      "source": [
        "dividing the dataset in features and target variable depending upon size of 2x2 matrix."
      ],
      "metadata": {
        "id": "egBYozNK8JKt"
      }
    },
    {
      "cell_type": "code",
      "source": [
        "def create_dataset(data,size=1):\n",
        "    x=[]\n",
        "    y=[]\n",
        "    for i in range(len(data)-size-1):\n",
        "        a = data[i:(i+size),0]\n",
        "        x.append(a)\n",
        "        y.append(data[i+size,0])\n",
        "    return np.array(x),np.array(y)\n",
        "\n",
        "size = 100\n",
        "x_train, y_train = create_dataset(training_data, size)\n",
        "x_test, y_test = create_dataset(training_data, size)"
      ],
      "metadata": {
        "id": "bOhVF2qEubJz"
      },
      "execution_count": null,
      "outputs": []
    },
    {
      "cell_type": "code",
      "source": [
        "print(x_train.shape)\n",
        "print(y_train.shape)\n",
        "print(x_test.shape)\n",
        "print(y_test.shape)"
      ],
      "metadata": {
        "colab": {
          "base_uri": "https://localhost:8080/"
        },
        "id": "fBG8X3Dful5g",
        "outputId": "f51ade49-19a6-4806-95e8-ae297d5fc91b"
      },
      "execution_count": null,
      "outputs": [
        {
          "output_type": "stream",
          "name": "stdout",
          "text": [
            "(1221, 100)\n",
            "(1221,)\n",
            "(1221, 100)\n",
            "(1221,)\n"
          ]
        }
      ]
    },
    {
      "cell_type": "markdown",
      "source": [
        "Reshaping the train and test datasets"
      ],
      "metadata": {
        "id": "MWPaIsLR8VRS"
      }
    },
    {
      "cell_type": "code",
      "source": [
        "x_train = x_train.reshape(x_train.shape[0],x_train.shape[1] , 1)\n",
        "x_test = x_test.reshape(x_test.shape[0],x_test.shape[1] , 1)"
      ],
      "metadata": {
        "id": "HPwpb3DVuoJe"
      },
      "execution_count": null,
      "outputs": []
    },
    {
      "cell_type": "code",
      "source": [
        "print(x_train.shape)\n",
        "print(y_train.shape)\n",
        "print(x_test.shape)\n",
        "print(y_test.shape)"
      ],
      "metadata": {
        "colab": {
          "base_uri": "https://localhost:8080/"
        },
        "id": "-yOB8LHj8bhq",
        "outputId": "067328ca-5898-406f-b26b-60a896eb066e"
      },
      "execution_count": 21,
      "outputs": [
        {
          "output_type": "stream",
          "name": "stdout",
          "text": [
            "(1221, 100, 1)\n",
            "(1221,)\n",
            "(1221, 100, 1)\n",
            "(1221,)\n"
          ]
        }
      ]
    },
    {
      "cell_type": "markdown",
      "source": [
        "Stacked LSTM with 3 sequential data and then dense"
      ],
      "metadata": {
        "id": "I9edtYEU8i63"
      }
    },
    {
      "cell_type": "code",
      "source": [
        "model=Sequential()\n",
        "model.add(LSTM(50,return_sequences=True,input_shape=(100,1)))"
      ],
      "metadata": {
        "id": "M1a8ZdI-8k2V"
      },
      "execution_count": 22,
      "outputs": []
    },
    {
      "cell_type": "markdown",
      "source": [
        "return_sequences=it will output all the hidden states of each time steps."
      ],
      "metadata": {
        "id": "VxcZSK1z8uMu"
      }
    },
    {
      "cell_type": "code",
      "source": [
        "model.add(LSTM(50, return_sequences=True))\n",
        "model.add(LSTM(50))\n",
        "model.add(Dense(1))\n",
        "model.compile(loss='mean_squared_error', optimizer='adam')"
      ],
      "metadata": {
        "id": "sF45VVJW8yzO"
      },
      "execution_count": 23,
      "outputs": []
    },
    {
      "cell_type": "markdown",
      "source": [
        "Summary of the model"
      ],
      "metadata": {
        "id": "6S3xxwed8_S4"
      }
    },
    {
      "cell_type": "code",
      "source": [
        "model.summary()"
      ],
      "metadata": {
        "colab": {
          "base_uri": "https://localhost:8080/"
        },
        "id": "UncK1iJA9BKg",
        "outputId": "02fade12-52ce-42c0-95e2-186087f4c71c"
      },
      "execution_count": 24,
      "outputs": [
        {
          "output_type": "stream",
          "name": "stdout",
          "text": [
            "Model: \"sequential\"\n",
            "_________________________________________________________________\n",
            " Layer (type)                Output Shape              Param #   \n",
            "=================================================================\n",
            " lstm (LSTM)                 (None, 100, 50)           10400     \n",
            "                                                                 \n",
            " lstm_1 (LSTM)               (None, 100, 50)           20200     \n",
            "                                                                 \n",
            " lstm_2 (LSTM)               (None, 50)                20200     \n",
            "                                                                 \n",
            " dense (Dense)               (None, 1)                 51        \n",
            "                                                                 \n",
            "=================================================================\n",
            "Total params: 50,851\n",
            "Trainable params: 50,851\n",
            "Non-trainable params: 0\n",
            "_________________________________________________________________\n"
          ]
        }
      ]
    },
    {
      "cell_type": "markdown",
      "source": [
        "Fitting the dataset"
      ],
      "metadata": {
        "id": "aCdByJs69JAV"
      }
    },
    {
      "cell_type": "code",
      "source": [
        "model.fit(x_train, y_train, validation_data=(x_test,y_test), epochs=100, batch_size=64, verbose=1) "
      ],
      "metadata": {
        "colab": {
          "base_uri": "https://localhost:8080/"
        },
        "id": "s9fWpilX9KXv",
        "outputId": "b2694b94-d897-49b2-94e4-612a9410c392"
      },
      "execution_count": 25,
      "outputs": [
        {
          "output_type": "stream",
          "name": "stdout",
          "text": [
            "Epoch 1/100\n",
            "20/20 [==============================] - 16s 468ms/step - loss: 0.0448 - val_loss: 0.0373\n",
            "Epoch 2/100\n",
            "20/20 [==============================] - 7s 342ms/step - loss: 0.0378 - val_loss: 0.0369\n",
            "Epoch 3/100\n",
            "20/20 [==============================] - 6s 319ms/step - loss: 0.0369 - val_loss: 0.0366\n",
            "Epoch 4/100\n",
            "20/20 [==============================] - 6s 279ms/step - loss: 0.0367 - val_loss: 0.0366\n",
            "Epoch 5/100\n",
            "20/20 [==============================] - 7s 352ms/step - loss: 0.0372 - val_loss: 0.0371\n",
            "Epoch 6/100\n",
            "20/20 [==============================] - 5s 274ms/step - loss: 0.0368 - val_loss: 0.0368\n",
            "Epoch 7/100\n",
            "20/20 [==============================] - 7s 368ms/step - loss: 0.0372 - val_loss: 0.0365\n",
            "Epoch 8/100\n",
            "20/20 [==============================] - 5s 271ms/step - loss: 0.0369 - val_loss: 0.0376\n",
            "Epoch 9/100\n",
            "20/20 [==============================] - 7s 340ms/step - loss: 0.0381 - val_loss: 0.0364\n",
            "Epoch 10/100\n",
            "20/20 [==============================] - 5s 270ms/step - loss: 0.0375 - val_loss: 0.0372\n",
            "Epoch 11/100\n",
            "20/20 [==============================] - 6s 329ms/step - loss: 0.0367 - val_loss: 0.0364\n",
            "Epoch 12/100\n",
            "20/20 [==============================] - 5s 264ms/step - loss: 0.0367 - val_loss: 0.0365\n",
            "Epoch 13/100\n",
            "20/20 [==============================] - 7s 338ms/step - loss: 0.0368 - val_loss: 0.0368\n",
            "Epoch 14/100\n",
            "20/20 [==============================] - 5s 264ms/step - loss: 0.0367 - val_loss: 0.0365\n",
            "Epoch 15/100\n",
            "20/20 [==============================] - 6s 288ms/step - loss: 0.0372 - val_loss: 0.0363\n",
            "Epoch 16/100\n",
            "20/20 [==============================] - 6s 308ms/step - loss: 0.0369 - val_loss: 0.0381\n",
            "Epoch 17/100\n",
            "20/20 [==============================] - 5s 270ms/step - loss: 0.0368 - val_loss: 0.0375\n",
            "Epoch 18/100\n",
            "20/20 [==============================] - 7s 331ms/step - loss: 0.0368 - val_loss: 0.0367\n",
            "Epoch 19/100\n",
            "20/20 [==============================] - 5s 268ms/step - loss: 0.0364 - val_loss: 0.0368\n",
            "Epoch 20/100\n",
            "20/20 [==============================] - 6s 331ms/step - loss: 0.0367 - val_loss: 0.0365\n",
            "Epoch 21/100\n",
            "20/20 [==============================] - 5s 268ms/step - loss: 0.0366 - val_loss: 0.0367\n",
            "Epoch 22/100\n",
            "20/20 [==============================] - 6s 322ms/step - loss: 0.0368 - val_loss: 0.0373\n",
            "Epoch 23/100\n",
            "20/20 [==============================] - 5s 261ms/step - loss: 0.0367 - val_loss: 0.0365\n",
            "Epoch 24/100\n",
            "20/20 [==============================] - 6s 331ms/step - loss: 0.0364 - val_loss: 0.0363\n",
            "Epoch 25/100\n",
            "20/20 [==============================] - 5s 269ms/step - loss: 0.0365 - val_loss: 0.0365\n",
            "Epoch 26/100\n",
            "20/20 [==============================] - 7s 335ms/step - loss: 0.0365 - val_loss: 0.0363\n",
            "Epoch 27/100\n",
            "20/20 [==============================] - 5s 268ms/step - loss: 0.0365 - val_loss: 0.0363\n",
            "Epoch 28/100\n",
            "20/20 [==============================] - 5s 277ms/step - loss: 0.0366 - val_loss: 0.0363\n",
            "Epoch 29/100\n",
            "20/20 [==============================] - 6s 308ms/step - loss: 0.0364 - val_loss: 0.0363\n",
            "Epoch 30/100\n",
            "20/20 [==============================] - 5s 262ms/step - loss: 0.0365 - val_loss: 0.0371\n",
            "Epoch 31/100\n",
            "20/20 [==============================] - 6s 329ms/step - loss: 0.0369 - val_loss: 0.0362\n",
            "Epoch 32/100\n",
            "20/20 [==============================] - 5s 261ms/step - loss: 0.0363 - val_loss: 0.0362\n",
            "Epoch 33/100\n",
            "20/20 [==============================] - 6s 324ms/step - loss: 0.0363 - val_loss: 0.0362\n",
            "Epoch 34/100\n",
            "20/20 [==============================] - 5s 256ms/step - loss: 0.0364 - val_loss: 0.0362\n",
            "Epoch 35/100\n",
            "20/20 [==============================] - 6s 330ms/step - loss: 0.0365 - val_loss: 0.0362\n",
            "Epoch 36/100\n",
            "20/20 [==============================] - 5s 262ms/step - loss: 0.0363 - val_loss: 0.0367\n",
            "Epoch 37/100\n",
            "20/20 [==============================] - 6s 331ms/step - loss: 0.0370 - val_loss: 0.0362\n",
            "Epoch 38/100\n",
            "20/20 [==============================] - 5s 262ms/step - loss: 0.0363 - val_loss: 0.0365\n",
            "Epoch 39/100\n",
            "20/20 [==============================] - 5s 264ms/step - loss: 0.0367 - val_loss: 0.0361\n",
            "Epoch 40/100\n",
            "20/20 [==============================] - 6s 319ms/step - loss: 0.0367 - val_loss: 0.0362\n",
            "Epoch 41/100\n",
            "20/20 [==============================] - 5s 261ms/step - loss: 0.0362 - val_loss: 0.0361\n",
            "Epoch 42/100\n",
            "20/20 [==============================] - 6s 329ms/step - loss: 0.0362 - val_loss: 0.0361\n",
            "Epoch 43/100\n",
            "20/20 [==============================] - 5s 260ms/step - loss: 0.0363 - val_loss: 0.0362\n",
            "Epoch 44/100\n",
            "20/20 [==============================] - 6s 318ms/step - loss: 0.0362 - val_loss: 0.0362\n",
            "Epoch 45/100\n",
            "20/20 [==============================] - 5s 260ms/step - loss: 0.0364 - val_loss: 0.0369\n",
            "Epoch 46/100\n",
            "20/20 [==============================] - 6s 331ms/step - loss: 0.0372 - val_loss: 0.0362\n",
            "Epoch 47/100\n",
            "20/20 [==============================] - 5s 265ms/step - loss: 0.0362 - val_loss: 0.0362\n",
            "Epoch 48/100\n",
            "20/20 [==============================] - 5s 275ms/step - loss: 0.0363 - val_loss: 0.0363\n",
            "Epoch 49/100\n",
            "20/20 [==============================] - 6s 306ms/step - loss: 0.0362 - val_loss: 0.0363\n",
            "Epoch 50/100\n",
            "20/20 [==============================] - 5s 259ms/step - loss: 0.0363 - val_loss: 0.0361\n",
            "Epoch 51/100\n",
            "20/20 [==============================] - 7s 332ms/step - loss: 0.0362 - val_loss: 0.0361\n",
            "Epoch 52/100\n",
            "20/20 [==============================] - 5s 259ms/step - loss: 0.0361 - val_loss: 0.0363\n",
            "Epoch 53/100\n",
            "20/20 [==============================] - 6s 326ms/step - loss: 0.0368 - val_loss: 0.0362\n",
            "Epoch 54/100\n",
            "20/20 [==============================] - 5s 258ms/step - loss: 0.0364 - val_loss: 0.0361\n",
            "Epoch 55/100\n",
            "20/20 [==============================] - 6s 290ms/step - loss: 0.0363 - val_loss: 0.0361\n",
            "Epoch 56/100\n",
            "20/20 [==============================] - 6s 276ms/step - loss: 0.0362 - val_loss: 0.0361\n",
            "Epoch 57/100\n",
            "20/20 [==============================] - 5s 259ms/step - loss: 0.0361 - val_loss: 0.0362\n",
            "Epoch 58/100\n",
            "20/20 [==============================] - 6s 325ms/step - loss: 0.0361 - val_loss: 0.0362\n",
            "Epoch 59/100\n",
            "20/20 [==============================] - 5s 260ms/step - loss: 0.0364 - val_loss: 0.0361\n",
            "Epoch 60/100\n",
            "20/20 [==============================] - 7s 334ms/step - loss: 0.0363 - val_loss: 0.0361\n",
            "Epoch 61/100\n",
            "20/20 [==============================] - 5s 263ms/step - loss: 0.0363 - val_loss: 0.0361\n",
            "Epoch 62/100\n",
            "20/20 [==============================] - 6s 321ms/step - loss: 0.0364 - val_loss: 0.0361\n",
            "Epoch 63/100\n",
            "20/20 [==============================] - 5s 269ms/step - loss: 0.0364 - val_loss: 0.0362\n",
            "Epoch 64/100\n",
            "20/20 [==============================] - 7s 334ms/step - loss: 0.0362 - val_loss: 0.0361\n",
            "Epoch 65/100\n",
            "20/20 [==============================] - 5s 273ms/step - loss: 0.0362 - val_loss: 0.0361\n",
            "Epoch 66/100\n",
            "20/20 [==============================] - 5s 276ms/step - loss: 0.0362 - val_loss: 0.0364\n",
            "Epoch 67/100\n",
            "20/20 [==============================] - 6s 316ms/step - loss: 0.0364 - val_loss: 0.0361\n",
            "Epoch 68/100\n",
            "20/20 [==============================] - 5s 266ms/step - loss: 0.0361 - val_loss: 0.0361\n",
            "Epoch 69/100\n",
            "20/20 [==============================] - 7s 332ms/step - loss: 0.0362 - val_loss: 0.0361\n",
            "Epoch 70/100\n",
            "20/20 [==============================] - 5s 262ms/step - loss: 0.0363 - val_loss: 0.0362\n",
            "Epoch 71/100\n",
            "20/20 [==============================] - 7s 332ms/step - loss: 0.0364 - val_loss: 0.0365\n",
            "Epoch 72/100\n",
            "20/20 [==============================] - 5s 261ms/step - loss: 0.0363 - val_loss: 0.0361\n",
            "Epoch 73/100\n",
            "20/20 [==============================] - 7s 354ms/step - loss: 0.0364 - val_loss: 0.0361\n",
            "Epoch 74/100\n",
            "20/20 [==============================] - 5s 265ms/step - loss: 0.0362 - val_loss: 0.0361\n",
            "Epoch 75/100\n",
            "20/20 [==============================] - 6s 294ms/step - loss: 0.0362 - val_loss: 0.0361\n",
            "Epoch 76/100\n",
            "20/20 [==============================] - 6s 289ms/step - loss: 0.0364 - val_loss: 0.0363\n",
            "Epoch 77/100\n",
            "20/20 [==============================] - 5s 269ms/step - loss: 0.0366 - val_loss: 0.0362\n",
            "Epoch 78/100\n",
            "20/20 [==============================] - 7s 335ms/step - loss: 0.0362 - val_loss: 0.0361\n",
            "Epoch 79/100\n",
            "20/20 [==============================] - 7s 336ms/step - loss: 0.0362 - val_loss: 0.0362\n",
            "Epoch 80/100\n",
            "20/20 [==============================] - 6s 323ms/step - loss: 0.0364 - val_loss: 0.0362\n",
            "Epoch 81/100\n",
            "20/20 [==============================] - 5s 257ms/step - loss: 0.0364 - val_loss: 0.0361\n",
            "Epoch 82/100\n",
            "20/20 [==============================] - 6s 330ms/step - loss: 0.0362 - val_loss: 0.0361\n",
            "Epoch 83/100\n",
            "20/20 [==============================] - 5s 261ms/step - loss: 0.0362 - val_loss: 0.0361\n",
            "Epoch 84/100\n",
            "20/20 [==============================] - 7s 368ms/step - loss: 0.0362 - val_loss: 0.0360\n",
            "Epoch 85/100\n",
            "20/20 [==============================] - 5s 277ms/step - loss: 0.0362 - val_loss: 0.0360\n",
            "Epoch 86/100\n",
            "20/20 [==============================] - 7s 347ms/step - loss: 0.0362 - val_loss: 0.0360\n",
            "Epoch 87/100\n",
            "20/20 [==============================] - 7s 353ms/step - loss: 0.0363 - val_loss: 0.0361\n",
            "Epoch 88/100\n",
            "20/20 [==============================] - 7s 354ms/step - loss: 0.0363 - val_loss: 0.0363\n",
            "Epoch 89/100\n",
            "20/20 [==============================] - 6s 288ms/step - loss: 0.0364 - val_loss: 0.0362\n",
            "Epoch 90/100\n",
            "20/20 [==============================] - 7s 353ms/step - loss: 0.0362 - val_loss: 0.0360\n",
            "Epoch 91/100\n",
            "20/20 [==============================] - 6s 285ms/step - loss: 0.0361 - val_loss: 0.0360\n",
            "Epoch 92/100\n",
            "20/20 [==============================] - 9s 456ms/step - loss: 0.0362 - val_loss: 0.0360\n",
            "Epoch 93/100\n",
            "20/20 [==============================] - 7s 351ms/step - loss: 0.0362 - val_loss: 0.0361\n",
            "Epoch 94/100\n",
            "20/20 [==============================] - 6s 328ms/step - loss: 0.0363 - val_loss: 0.0365\n",
            "Epoch 95/100\n",
            "20/20 [==============================] - 5s 259ms/step - loss: 0.0363 - val_loss: 0.0362\n",
            "Epoch 96/100\n",
            "20/20 [==============================] - 7s 332ms/step - loss: 0.0363 - val_loss: 0.0361\n",
            "Epoch 97/100\n",
            "20/20 [==============================] - 5s 267ms/step - loss: 0.0363 - val_loss: 0.0360\n",
            "Epoch 98/100\n",
            "20/20 [==============================] - 7s 367ms/step - loss: 0.0362 - val_loss: 0.0361\n",
            "Epoch 99/100\n",
            "20/20 [==============================] - 5s 270ms/step - loss: 0.0362 - val_loss: 0.0361\n",
            "Epoch 100/100\n",
            "20/20 [==============================] - 7s 347ms/step - loss: 0.0362 - val_loss: 0.0364\n"
          ]
        },
        {
          "output_type": "execute_result",
          "data": {
            "text/plain": [
              "<keras.callbacks.History at 0x7fb43e433dc0>"
            ]
          },
          "metadata": {},
          "execution_count": 25
        }
      ]
    },
    {
      "cell_type": "markdown",
      "source": [
        "prediction and performance of metrics"
      ],
      "metadata": {
        "id": "wsDfU-dlAG1Q"
      }
    },
    {
      "cell_type": "code",
      "source": [
        "train_predict = model.predict(x_train)\n",
        "test_predict = model.predict(x_test)"
      ],
      "metadata": {
        "colab": {
          "base_uri": "https://localhost:8080/"
        },
        "id": "wn5qD4guAIk9",
        "outputId": "3b9f52b2-e211-4a60-cb60-146808a8d881"
      },
      "execution_count": 26,
      "outputs": [
        {
          "output_type": "stream",
          "name": "stdout",
          "text": [
            "39/39 [==============================] - 4s 49ms/step\n",
            "39/39 [==============================] - 2s 49ms/step\n"
          ]
        }
      ]
    },
    {
      "cell_type": "markdown",
      "source": [
        "Transform back to original form"
      ],
      "metadata": {
        "id": "StMIJ8EFAX9y"
      }
    },
    {
      "cell_type": "code",
      "source": [
        "train_predict = scaler.inverse_transform(train_predict)\n",
        "test_predict = scaler.inverse_transform(test_predict)"
      ],
      "metadata": {
        "id": "yuERwthCAafw"
      },
      "execution_count": 27,
      "outputs": []
    },
    {
      "cell_type": "markdown",
      "source": [
        "Calculate RMSE performance metrics"
      ],
      "metadata": {
        "id": "F5ze7OvEAjRz"
      }
    },
    {
      "cell_type": "code",
      "source": [
        "math.sqrt(mean_squared_error(y_train,train_predict))"
      ],
      "metadata": {
        "colab": {
          "base_uri": "https://localhost:8080/"
        },
        "id": "oGPfrOc2Akrp",
        "outputId": "13f8a01e-b2b5-40e8-de68-f4abc19db563"
      },
      "execution_count": 30,
      "outputs": [
        {
          "output_type": "execute_result",
          "data": {
            "text/plain": [
              "153.37369628363243"
            ]
          },
          "metadata": {},
          "execution_count": 30
        }
      ]
    }
  ]
}